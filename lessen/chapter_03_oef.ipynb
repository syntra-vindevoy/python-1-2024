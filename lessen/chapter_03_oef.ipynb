{
 "cells": [
  {
   "cell_type": "markdown",
   "id": "12f1da1c07308333",
   "metadata": {},
   "source": []
  },
  {
   "cell_type": "markdown",
   "id": "2352a8b91f6486eb",
   "metadata": {},
   "source": [
    "Write a function named print_right that takes a string named text as a parameter and prints the string with enough leading spaces that the last letter of the string is in the 40th column of the display."
   ]
  },
  {
   "cell_type": "code",
   "id": "77fbdf0daa5197eb",
   "metadata": {
    "ExecuteTime": {
     "end_time": "2024-10-08T18:18:07.311194Z",
     "start_time": "2024-10-08T18:18:07.294109Z"
    }
   },
   "source": [
    "def print_right(text):\n",
    "    text = text.strip()\n",
    "    string_length = 40\n",
    "    text_length = len(text)\n",
    "    leading_spaces = \"_\" * (string_length - text_length)\n",
    "    result = leading_spaces + text\n",
    "    return result\n",
    "\n",
    "\n",
    "def main():\n",
    "    assert (\n",
    "            print_right(\"toto\") == \"____________________________________toto\"\n",
    "    ), \"error in string\"\n",
    "    assert len(print_right(\"toto\")) == 40, \"error in length\"\n",
    "\n",
    "    print(print_right(\"toto\"))\n",
    "    print_list = [\"toto\", \"goodbye\", \"tata\"]\n",
    "    for text in print_list:\n",
    "        print_right(text)\n",
    "\n",
    "\n",
    "if __name__ == \"__main__\":\n",
    "    main()"
   ],
   "outputs": [
    {
     "name": "stdout",
     "output_type": "stream",
     "text": [
      "____________________________________toto\n"
     ]
    }
   ],
   "execution_count": 1
  },
  {
   "cell_type": "markdown",
   "id": "330c3e769e1cbba0",
   "metadata": {},
   "source": []
  },
  {
   "cell_type": "markdown",
   "id": "c76d7b970ab84186",
   "metadata": {},
   "source": [
    "Write a function called triangle that takes a string and an integer and draws a pyramid with the given height, made up using copies of the string. Here's an example of a pyramid with 5 levels, using the string 'L'.\n"
   ]
  },
  {
   "cell_type": "code",
   "id": "2a192404b0d7c286",
   "metadata": {
    "ExecuteTime": {
     "end_time": "2024-10-08T18:18:07.411592Z",
     "start_time": "2024-10-08T18:18:07.393349Z"
    }
   },
   "source": [
    "## triangle\n",
    "def triangle(string, height):\n",
    "    for i in range(height + 1):\n",
    "        number_of_characters = i\n",
    "        print(string * number_of_characters)\n",
    "\n",
    "\n",
    "def main():\n",
    "    triangle(\"L\", 5)\n",
    "\n",
    "\n",
    "if __name__ == \"__main__\":\n",
    "    main()"
   ],
   "outputs": [
    {
     "name": "stdout",
     "output_type": "stream",
     "text": [
      "\n",
      "L\n",
      "LL\n",
      "LLL\n",
      "LLLL\n",
      "LLLLL\n"
     ]
    }
   ],
   "execution_count": 2
  },
  {
   "cell_type": "code",
   "id": "b7357a92f6aec3b2",
   "metadata": {
    "ExecuteTime": {
     "end_time": "2024-10-08T18:18:07.870596Z",
     "start_time": "2024-10-08T18:18:07.860777Z"
    }
   },
   "source": [
    "# pyramid\n",
    "\n",
    "\n",
    "def pyramid(string, height):\n",
    "    for i in range(height + 1):\n",
    "        number_of_characters = 2 * i + 1\n",
    "        total_length = 2 * height + 1\n",
    "        spaces = (total_length - number_of_characters) // 2\n",
    "        print(spaces * \"_\" + string * number_of_characters + spaces * \"_\")\n",
    "\n",
    "\n",
    "print(\"\")\n",
    "pyramid(\"X\", 5)"
   ],
   "outputs": [
    {
     "name": "stdout",
     "output_type": "stream",
     "text": [
      "\n",
      "_____X_____\n",
      "____XXX____\n",
      "___XXXXX___\n",
      "__XXXXXXX__\n",
      "_XXXXXXXXX_\n",
      "XXXXXXXXXXX\n"
     ]
    }
   ],
   "execution_count": 3
  },
  {
   "cell_type": "markdown",
   "id": "e77698065dc2ac39",
   "metadata": {},
   "source": [
    "Write a function called rectangle that takes a string and two integers and draws a rectangle with the given width and height, made up using copies of the string. Here's an example of a rectangle with width 5 and height 4, made up of the string 'H'."
   ]
  },
  {
   "cell_type": "code",
   "id": "b782fc2300475ba",
   "metadata": {
    "ExecuteTime": {
     "end_time": "2024-10-08T18:18:07.901354Z",
     "start_time": "2024-10-08T18:18:07.892680Z"
    }
   },
   "source": [
    "def rectangle(string: str, width: int, height: int) -> None:\n",
    "    for i in range(height):\n",
    "        print(string * width)\n",
    "\n",
    "\n",
    "rectangle(\"O\", 4, 8)"
   ],
   "outputs": [
    {
     "name": "stdout",
     "output_type": "stream",
     "text": [
      "OOOO\n",
      "OOOO\n",
      "OOOO\n",
      "OOOO\n",
      "OOOO\n",
      "OOOO\n",
      "OOOO\n",
      "OOOO\n"
     ]
    }
   ],
   "execution_count": 4
  },
  {
   "cell_type": "markdown",
   "id": "3b8aa85229732cdc",
   "metadata": {},
   "source": [
    "### Exercise\n",
    "\n",
    "The song \"99 Bottles of Beer\" starts with this verse:\n",
    "\n",
    "> 99 bottles of beer on the wall  \n",
    "> 99 bottles of beer  \n",
    "> Take one down, pass it around  \n",
    "> 98 bottles of beer on the wall  \n",
    "\n",
    "Then the second verse is the same, except that it starts with 98 bottles and ends with 97. The song continues -- for a very long time -- until there are 0 bottles of beer.\n",
    "\n",
    "Write a function called `bottle_verse` that takes a number as a parameter and displays the verse that starts with the given number of bottles.\n",
    "\n",
    "Hint: Consider starting with a function that can print the first, second, or last line of the verse, and then use it to write `bottle_verse`."
   ]
  },
  {
   "cell_type": "code",
   "id": "e336f46b4d8cc1c8",
   "metadata": {
    "ExecuteTime": {
     "end_time": "2024-10-08T18:18:08.021042Z",
     "start_time": "2024-10-08T18:18:08.012766Z"
    }
   },
   "source": [
    "def print_one_iteration(amount: int) -> None:\n",
    "    print(\n",
    "        f\"{amount} Bottles of beer on the wall\\n\",\n",
    "        f\"{amount} Bottles of beer\\n\",\n",
    "        f\"Take one down, pass it around\\n\",\n",
    "        f\"{amount - 1} Bottles of beer on the wall\\n\",\n",
    "    )\n",
    "\n",
    "\n",
    "def bottle_verse(amount: int) -> None:\n",
    "    for i in range(amount, 0, -1):\n",
    "        print_one_iteration(i)\n",
    "\n",
    "\n",
    "bottle_verse(5)"
   ],
   "outputs": [
    {
     "name": "stdout",
     "output_type": "stream",
     "text": [
      "5 Bottles of beer on the wall\n",
      " 5 Bottles of beer\n",
      " Take one down, pass it around\n",
      " 4 Bottles of beer on the wall\n",
      "\n",
      "4 Bottles of beer on the wall\n",
      " 4 Bottles of beer\n",
      " Take one down, pass it around\n",
      " 3 Bottles of beer on the wall\n",
      "\n",
      "3 Bottles of beer on the wall\n",
      " 3 Bottles of beer\n",
      " Take one down, pass it around\n",
      " 2 Bottles of beer on the wall\n",
      "\n",
      "2 Bottles of beer on the wall\n",
      " 2 Bottles of beer\n",
      " Take one down, pass it around\n",
      " 1 Bottles of beer on the wall\n",
      "\n",
      "1 Bottles of beer on the wall\n",
      " 1 Bottles of beer\n",
      " Take one down, pass it around\n",
      " 0 Bottles of beer on the wall\n",
      "\n"
     ]
    }
   ],
   "execution_count": 5
  },
  {
   "cell_type": "markdown",
   "id": "70509af5be5436e",
   "metadata": {},
   "source": [
    "spammen\n"
   ]
  },
  {
   "cell_type": "markdown",
   "id": "61665f9420f73019",
   "metadata": {},
   "source": []
  },
  {
   "cell_type": "code",
   "id": "3a61eb378d47b658",
   "metadata": {
    "ExecuteTime": {
     "end_time": "2024-10-08T18:18:08.067341Z",
     "start_time": "2024-10-08T18:18:08.059868Z"
    }
   },
   "source": [
    "def spam(function_name, amount):\n",
    "    for i in range(amount):\n",
    "        function_name()\n",
    "\n",
    "\n",
    "def print_spam_line():\n",
    "    print(\"x\")\n",
    "\n",
    "\n",
    "spam(print_spam_line, 5)"
   ],
   "outputs": [
    {
     "name": "stdout",
     "output_type": "stream",
     "text": [
      "x\n",
      "x\n",
      "x\n",
      "x\n",
      "x\n"
     ]
    }
   ],
   "execution_count": 6
  },
  {
   "cell_type": "markdown",
   "id": "6c42bf18a0956cc4",
   "metadata": {},
   "source": []
  },
  {
   "cell_type": "markdown",
   "id": "7b3b88f3b805207c",
   "metadata": {},
   "source": [
    "vierkant met markeringen"
   ]
  },
  {
   "cell_type": "code",
   "id": "3e3e8ef9b21d3c56",
   "metadata": {
    "ExecuteTime": {
     "end_time": "2024-10-08T18:18:08.109150Z",
     "start_time": "2024-10-08T18:18:08.091774Z"
    }
   },
   "source": [
    "# eigen probeersel...\n",
    "\n",
    "\n",
    "def print_one_line(line_number, width):\n",
    "    text = \"\"\n",
    "    for x_position in range(width):\n",
    "        character = \"-\"\n",
    "        if is_special_line(line_number, width):\n",
    "            if x_position == 0 or x_position == width // 2 or x_position == width - 1:\n",
    "                character = \"+\"\n",
    "        else:\n",
    "            if x_position == 0 or x_position == width - 1:\n",
    "                character = \"|\"\n",
    "            else:\n",
    "                character = \" \"\n",
    "        text = text + character\n",
    "    print(text)\n",
    "\n",
    "\n",
    "def is_special_line(line_number, width):\n",
    "    return line_number == 0 or line_number == width // 2 or line_number == width - 1\n",
    "\n",
    "\n",
    "def print_square(width):\n",
    "    if width % 2 == 0:\n",
    "        print(\"provide an odd number\")\n",
    "    else:\n",
    "        for i in range(width):\n",
    "            print_one_line(i, width)\n",
    "            # print(is_special_line(i, 11))\n",
    "\n",
    "\n",
    "def main():\n",
    "    print_square(11)\n",
    "\n",
    "\n",
    "if __name__ == \"__main__\":\n",
    "    main()"
   ],
   "outputs": [
    {
     "name": "stdout",
     "output_type": "stream",
     "text": [
      "+----+----+\n",
      "|         |\n",
      "|         |\n",
      "|         |\n",
      "|         |\n",
      "+----+----+\n",
      "|         |\n",
      "|         |\n",
      "|         |\n",
      "|         |\n",
      "+----+----+\n"
     ]
    }
   ],
   "execution_count": 7
  },
  {
   "cell_type": "code",
   "id": "aa941b20fe718976",
   "metadata": {
    "ExecuteTime": {
     "end_time": "2024-10-08T18:34:37.909896Z",
     "start_time": "2024-10-08T18:34:37.899238Z"
    }
   },
   "source": [
    "\n",
    "def print_square(width):\n",
    "    count = (width - 3) // 2\n",
    "    print_special_line(count)\n",
    "    print_normal_lines(count)\n",
    "    print_special_line(count)\n",
    "    print_normal_lines(count)\n",
    "    print_special_line(count)\n",
    "\n",
    "\n",
    "def print_normal_lines(count):\n",
    "    for i in range(count):\n",
    "        print_normal_line(count)\n",
    "\n",
    "\n",
    "def print_normal_line(count):\n",
    "    print(f\"|{' ' * count}|{' ' * count}|\")\n",
    "\n",
    "\n",
    "def print_special_line(count):\n",
    "    print(f\"x{'-' * count}x{'-' * count}x\")\n",
    "    # doesn't work with + signs on the corners (in notebook)\n",
    "\n",
    "\n",
    "print_square(9)\n",
    "\n"
   ],
   "outputs": [
    {
     "name": "stdout",
     "output_type": "stream",
     "text": [
      "x---x---x\n",
      "|   |   |\n",
      "|   |   |\n",
      "|   |   |\n",
      "x---x---x\n",
      "|   |   |\n",
      "|   |   |\n",
      "|   |   |\n",
      "x---x---x\n"
     ]
    }
   ],
   "execution_count": 13
  },
  {
   "metadata": {
    "ExecuteTime": {
     "end_time": "2024-10-08T18:23:32.900670Z",
     "start_time": "2024-10-08T18:23:32.894189Z"
    }
   },
   "cell_type": "code",
   "source": [
    "\n",
    "from IPython.display import display, Markdown\n",
    "\n",
    "\n",
    "def print_markdown(text):\n",
    "    display(Markdown(text))\n",
    "\n",
    "\n",
    "print_markdown(\"# test\")\n",
    "print_markdown(\"## test2\")\n"
   ],
   "id": "f90f65340faea5cb",
   "outputs": [
    {
     "data": {
      "text/plain": [
       "<IPython.core.display.Markdown object>"
      ],
      "text/markdown": "# test"
     },
     "metadata": {},
     "output_type": "display_data"
    },
    {
     "data": {
      "text/plain": [
       "<IPython.core.display.Markdown object>"
      ],
      "text/markdown": "## test2"
     },
     "metadata": {},
     "output_type": "display_data"
    }
   ],
   "execution_count": 11
  },
  {
   "metadata": {},
   "cell_type": "code",
   "outputs": [],
   "execution_count": null,
   "source": "",
   "id": "ea4143c2e2866966"
  }
 ],
 "metadata": {
  "kernelspec": {
   "display_name": "syntra",
   "language": "python",
   "name": "python3"
  },
  "language_info": {
   "codemirror_mode": {
    "name": "ipython",
    "version": 3
   },
   "file_extension": ".py",
   "mimetype": "text/x-python",
   "name": "python",
   "nbconvert_exporter": "python",
   "pygments_lexer": "ipython3",
   "version": "3.12.5"
  }
 },
 "nbformat": 4,
 "nbformat_minor": 5
}
