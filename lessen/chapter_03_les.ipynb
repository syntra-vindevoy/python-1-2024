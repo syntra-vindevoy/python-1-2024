{
 "cells": [
  {
   "metadata": {},
   "cell_type": "markdown",
   "source": "# Chapter 3 Functions\n",
   "id": "effd93f4d2f355ac"
  },
  {
   "metadata": {
    "ExecuteTime": {
     "end_time": "2024-10-01T19:56:45.035205Z",
     "start_time": "2024-10-01T19:56:45.025842Z"
    }
   },
   "cell_type": "code",
   "source": [
    "def faculty(n) -> int:\n",
    "    assert type(n) == int\n",
    "    if n == 0:\n",
    "        return 1\n",
    "    else:\n",
    "        return n * faculty(n - 1)\n",
    "\n",
    "\n",
    "assert faculty(0) == 1\n",
    "assert faculty(1) == 1\n",
    "assert faculty(2) == 2\n",
    "assert faculty(3) == 6\n",
    "\n",
    "'''\n",
    "# nog na te kijken\n",
    "\n",
    "failed = False\n",
    "try:\n",
    "    faculty(1024)\n",
    "except RecursionError:\n",
    "    failed = True\n",
    "assert failed\n",
    "\n",
    "\n",
    "failed = False\n",
    "try:\n",
    "    faculty(\"a\")\n",
    "except AssertionError:\n",
    "    failed = True\n",
    "assert failed\n",
    "'''\n",
    "for i in range(1, 6):\n",
    "    print(f\"{i}! = {faculty(i)}\")\n",
    "\n",
    "print(type(faculty))\n"
   ],
   "id": "f44abcb6917d6576",
   "outputs": [
    {
     "name": "stdout",
     "output_type": "stream",
     "text": [
      "1! = 1\n",
      "2! = 2\n",
      "3! = 6\n",
      "4! = 24\n",
      "5! = 120\n",
      "<class 'function'>\n"
     ]
    }
   ],
   "execution_count": 46
  },
  {
   "metadata": {
    "ExecuteTime": {
     "end_time": "2024-10-01T18:36:18.312699Z",
     "start_time": "2024-10-01T18:36:18.298560Z"
    }
   },
   "cell_type": "code",
   "source": [
    "def rectangle(rectangle_length: float, rectangle_width: float) -> float:\n",
    "    return float(rectangle_length * rectangle_width)\n",
    "\n",
    "\n",
    "def square(square_side: float) -> float:\n",
    "    return float(rectangle(square_side, square_side))\n",
    "\n",
    "\n",
    "length = 2\n",
    "width = 3\n",
    "\n",
    "length = float(length)\n",
    "width = float(width)\n",
    "\n",
    "print(f\"rectangle : {length} * {width} = {rectangle(length, width)}\")\n",
    "print(f\"square : {length} * {length} = {square(length)}\")\n"
   ],
   "id": "f21d06c51a0e6dff",
   "outputs": [
    {
     "name": "stdout",
     "output_type": "stream",
     "text": [
      "rectangle : 2.0 * 3.0 = 6.0\n",
      "square : 2.0 * 2.0 = 4.0\n"
     ]
    }
   ],
   "execution_count": 4
  },
  {
   "metadata": {
    "ExecuteTime": {
     "end_time": "2024-10-01T18:34:44.421222Z",
     "start_time": "2024-10-01T18:34:44.407460Z"
    }
   },
   "cell_type": "code",
   "source": [
    "for i in range(2):\n",
    "    print(i)"
   ],
   "id": "188015ef40a8cc3a",
   "outputs": [
    {
     "name": "stdout",
     "output_type": "stream",
     "text": [
      "0\n",
      "1\n"
     ]
    }
   ],
   "execution_count": 1
  },
  {
   "metadata": {
    "ExecuteTime": {
     "end_time": "2024-10-01T18:37:13.327802Z",
     "start_time": "2024-10-01T18:37:13.323451Z"
    }
   },
   "cell_type": "code",
   "source": [
    "for i in range(1, 10):\n",
    "    print(i)"
   ],
   "id": "779f34b6bdaaf265",
   "outputs": [
    {
     "name": "stdout",
     "output_type": "stream",
     "text": [
      "1\n",
      "2\n",
      "3\n",
      "4\n",
      "5\n",
      "6\n",
      "7\n",
      "8\n",
      "9\n"
     ]
    }
   ],
   "execution_count": 7
  },
  {
   "metadata": {
    "ExecuteTime": {
     "end_time": "2024-10-01T18:37:40.177748Z",
     "start_time": "2024-10-01T18:37:40.174011Z"
    }
   },
   "cell_type": "code",
   "source": [
    "for i in range(1, 10, 2):\n",
    "    print(i)\n"
   ],
   "id": "cf4c58941d183954",
   "outputs": [
    {
     "name": "stdout",
     "output_type": "stream",
     "text": [
      "1\n",
      "3\n",
      "5\n",
      "7\n",
      "9\n"
     ]
    }
   ],
   "execution_count": 9
  },
  {
   "metadata": {
    "ExecuteTime": {
     "end_time": "2024-10-01T18:41:26.818326Z",
     "start_time": "2024-10-01T18:41:26.806552Z"
    }
   },
   "cell_type": "code",
   "source": [
    "for i in range(10, 1, -1):\n",
    "    print(i)"
   ],
   "id": "ec6ea02a0b4da1a9",
   "outputs": [
    {
     "name": "stdout",
     "output_type": "stream",
     "text": [
      "10\n",
      "9\n",
      "8\n",
      "7\n",
      "6\n",
      "5\n",
      "4\n",
      "3\n",
      "2\n"
     ]
    }
   ],
   "execution_count": 10
  },
  {
   "metadata": {
    "ExecuteTime": {
     "end_time": "2024-10-01T18:51:30.883440Z",
     "start_time": "2024-10-01T18:51:30.878444Z"
    }
   },
   "cell_type": "code",
   "source": [
    "a = 10\n",
    "\n",
    "\n",
    "def toto():\n",
    "    b = 1 + 2  #overshadowing remark with a\n",
    "    print(f\"a inside toto-function :{b}\")\n",
    "\n",
    "\n",
    "def titi():\n",
    "    return 1 + 2\n",
    "\n",
    "\n",
    "print(titi())\n",
    "\n",
    "toto()\n",
    "print(f\"a outside of toto-function :{a}\")\n",
    "\n"
   ],
   "id": "40563337cf151e48",
   "outputs": [
    {
     "name": "stdout",
     "output_type": "stream",
     "text": [
      "3\n",
      "a inside toto-fucntion :3\n",
      " a outside of toto-function :10\n"
     ]
    }
   ],
   "execution_count": 13
  },
  {
   "metadata": {
    "ExecuteTime": {
     "end_time": "2024-10-01T18:58:15.258843Z",
     "start_time": "2024-10-01T18:58:15.247346Z"
    }
   },
   "cell_type": "code",
   "source": [
    "def tutu(x, y):\n",
    "    return x + y\n",
    "\n",
    "\n",
    "result = tutu(1, 2)\n",
    "assert tutu(1, 2) == 3, f\"expected 3, but got {result}\"\n",
    "\n"
   ],
   "id": "dbe4dc6efafcc632",
   "outputs": [],
   "execution_count": 22
  },
  {
   "metadata": {
    "ExecuteTime": {
     "end_time": "2024-10-01T19:02:48.684195Z",
     "start_time": "2024-10-01T19:02:48.678460Z"
    }
   },
   "cell_type": "code",
   "source": [
    "## function with default value\n",
    "from lessen.chapter_3_external import tata\n",
    "\n",
    "tata()\n"
   ],
   "id": "3d0bb67980aeeb1d",
   "outputs": [
    {
     "name": "stdout",
     "output_type": "stream",
     "text": [
      "Tata\n"
     ]
    }
   ],
   "execution_count": 23
  },
  {
   "metadata": {},
   "cell_type": "markdown",
   "source": "",
   "id": "9996fa6a3f6d4bca"
  },
  {
   "metadata": {
    "ExecuteTime": {
     "end_time": "2024-10-01T19:23:37.004671Z",
     "start_time": "2024-10-01T19:23:36.992279Z"
    }
   },
   "cell_type": "code",
   "source": [
    "## import all functions from a module\n",
    "from lessen import chapter_3_external\n",
    "\n",
    "chapter_3_external.tata()"
   ],
   "id": "bbe0d5beec971a1c",
   "outputs": [
    {
     "name": "stdout",
     "output_type": "stream",
     "text": [
      "Tata\n"
     ]
    }
   ],
   "execution_count": 31
  },
  {
   "metadata": {
    "ExecuteTime": {
     "end_time": "2024-10-01T19:23:38.884289Z",
     "start_time": "2024-10-01T19:23:38.871269Z"
    }
   },
   "cell_type": "code",
   "source": [
    "## global variable\n",
    "A = 10\n",
    "\n",
    "\n",
    "def f():\n",
    "    global A\n",
    "    A = 3\n",
    "\n",
    "\n",
    "f()\n",
    "print(A)"
   ],
   "id": "8a36361406ac17d8",
   "outputs": [
    {
     "name": "stdout",
     "output_type": "stream",
     "text": [
      "3\n"
     ]
    }
   ],
   "execution_count": 32
  },
  {
   "metadata": {
    "ExecuteTime": {
     "end_time": "2024-10-01T19:36:15.465911Z",
     "start_time": "2024-10-01T19:36:15.452908Z"
    }
   },
   "cell_type": "code",
   "source": [
    "from lessen.chapter_3_external import APPLICATION_NAME\n",
    "\n",
    "print(APPLICATION_NAME)"
   ],
   "id": "bdf6de538f9ab02",
   "outputs": [
    {
     "ename": "ImportError",
     "evalue": "cannot import name 'APPLICATION_NAME' from 'chapter_3_external' (C:\\_MaRn\\syntra\\projects\\python-1-2024\\chapter_3_external.py)",
     "output_type": "error",
     "traceback": [
      "\u001B[1;31m---------------------------------------------------------------------------\u001B[0m",
      "\u001B[1;31mImportError\u001B[0m                               Traceback (most recent call last)",
      "Cell \u001B[1;32mIn[34], line 1\u001B[0m\n\u001B[1;32m----> 1\u001B[0m \u001B[38;5;28;01mfrom\u001B[39;00m \u001B[38;5;21;01mchapter_3_external\u001B[39;00m \u001B[38;5;28;01mimport\u001B[39;00m APPLICATION_NAME\n\u001B[0;32m      3\u001B[0m \u001B[38;5;28mprint\u001B[39m(APPLICATION_NAME)\n",
      "\u001B[1;31mImportError\u001B[0m: cannot import name 'APPLICATION_NAME' from 'chapter_3_external' (C:\\_MaRn\\syntra\\projects\\python-1-2024\\chapter_3_external.py)"
     ]
    }
   ],
   "execution_count": 34
  }
 ],
 "metadata": {
  "kernelspec": {
   "display_name": "Python 3",
   "language": "python",
   "name": "python3"
  },
  "language_info": {
   "codemirror_mode": {
    "name": "ipython",
    "version": 2
   },
   "file_extension": ".py",
   "mimetype": "text/x-python",
   "name": "python",
   "nbconvert_exporter": "python",
   "pygments_lexer": "ipython2",
   "version": "2.7.6"
  }
 },
 "nbformat": 4,
 "nbformat_minor": 5
}
