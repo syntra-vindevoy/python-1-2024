{
 "cells": [
  {
   "cell_type": "code",
   "id": "882e263eb3cbf3b3",
   "metadata": {
    "ExecuteTime": {
     "end_time": "2024-10-01T17:26:12.182277Z",
     "start_time": "2024-10-01T17:26:12.176259Z"
    }
   },
   "source": [
    "import math\n",
    "from datetime import datetime\n",
    "from math import pi\n",
    "from math import pi as pie\n",
    "\n",
    "\n",
    "# import altair\n",
    "def get_seconds(minutes: int, seconds: int) -> int:\n",
    "    seconds_from_minutes = minutes * 60\n",
    "    return seconds_from_minutes + seconds\n",
    "\n",
    "\n",
    "def get_miles_from_kilometers(kilometers: float) -> float:\n",
    "    return kilometers * 1.609\n",
    "\n",
    "\n",
    "'''\n",
    "this is a block comment\n",
    "test\n",
    "\n",
    "test\n",
    "\n",
    "'''\n"
   ],
   "outputs": [
    {
     "data": {
      "text/plain": [
       "'\\nthis is a block comment\\ntest\\n\\ntest\\n\\n'"
      ]
     },
     "execution_count": 2,
     "metadata": {},
     "output_type": "execute_result"
    }
   ],
   "execution_count": 2
  },
  {
   "metadata": {},
   "cell_type": "code",
   "outputs": [],
   "execution_count": null,
   "source": [
    "def is_leap_year_0(year: int) -> bool:\n",
    "    if year % 4 == 0:\n",
    "        if year % 100 == 0:\n",
    "            if year % 400 == 0:\n",
    "                return True\n",
    "            else:\n",
    "                return False\n",
    "        else:\n",
    "            return True\n",
    "    else:\n",
    "        return False\n",
    "\n",
    "\n",
    "def is_leap_year_1(year: int) -> bool:\n",
    "    if year % 4 > 0:\n",
    "        return False\n",
    "    if year % 100 > 0:\n",
    "        return True\n",
    "    if year % 400 > 0:\n",
    "        return False\n",
    "    return True\n",
    "\n",
    "\n",
    "def is_leap_year_2(year: int) -> bool:\n",
    "    if year % 4 > 0:\n",
    "        return False\n",
    "    elif year % 100 > 0:\n",
    "        return True\n",
    "    elif year % 400 > 0:\n",
    "        return False\n",
    "    return True\n",
    "\n",
    "\n",
    "def is_leap_year_3(year: int):\n",
    "    return year % 4 == 0 and (year % 100 != 0 or year % 400 == 0)\n",
    "\n",
    "\n",
    "years = (2000, 2001, 2002, 2003, 2004, 2100, 2200)\n",
    "for y in years:\n",
    "    print(f\"year= {y}\")\n",
    "    print(is_leap_year_0(y))\n",
    "    print(is_leap_year_1(y))\n",
    "    print(is_leap_year_2(y))\n",
    "    print(is_leap_year_3(y))\n"
   ],
   "id": "a681b5c6ed6a01c1"
  },
  {
   "metadata": {},
   "cell_type": "code",
   "outputs": [],
   "execution_count": null,
   "source": [
    "def print_pi():\n",
    "    print(f\"pi= {math.pi}\")\n",
    "    print(f\"pi= {pi}\")\n",
    "    print(f\"pi= {pie}\")\n",
    "\n",
    "\n",
    "def print_now():\n",
    "    print(datetime.now())\n",
    "\n",
    "\n",
    "print_pi()\n",
    "print_now()"
   ],
   "id": "f665d44073b566ec"
  },
  {
   "metadata": {
    "collapsed": true
   },
   "cell_type": "code",
   "outputs": [],
   "execution_count": null,
   "source": "\n",
   "id": "initial_id"
  }
 ],
 "metadata": {
  "kernelspec": {
   "display_name": "Python 3",
   "language": "python",
   "name": "python3"
  },
  "language_info": {
   "codemirror_mode": {
    "name": "ipython",
    "version": 2
   },
   "file_extension": ".py",
   "mimetype": "text/x-python",
   "name": "python",
   "nbconvert_exporter": "python",
   "pygments_lexer": "ipython2",
   "version": "2.7.6"
  }
 },
 "nbformat": 4,
 "nbformat_minor": 5
}
