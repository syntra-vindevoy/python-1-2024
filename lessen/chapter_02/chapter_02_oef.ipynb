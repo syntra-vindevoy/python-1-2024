{
 "cells": [
  {
   "metadata": {},
   "cell_type": "markdown",
   "source": "",
   "id": "81d3c072577c1475"
  },
  {
   "metadata": {},
   "cell_type": "markdown",
   "source": "# exercises chapter 2",
   "id": "46dc6bee94f42313"
  },
  {
   "cell_type": "code",
   "id": "9d72c9f6ccc579bc",
   "metadata": {
    "ExecuteTime": {
     "end_time": "2024-09-26T18:42:24.857841Z",
     "start_time": "2024-09-26T18:42:24.849901Z"
    }
   },
   "source": [
    "%xmode Verbose\n",
    "import math"
   ],
   "outputs": [
    {
     "name": "stdout",
     "output_type": "stream",
     "text": [
      "Exception reporting mode: Verbose\n"
     ]
    }
   ],
   "execution_count": 2
  },
  {
   "metadata": {},
   "cell_type": "markdown",
   "source": [
    "## sphere volume\n",
    "Part 1. The volume of a sphere with radius \n",
    " is \n",
    " \n",
    ". What is the volume of a sphere with radius 5? Start with a variable named radius and then assign the result to a variable named volume. Display the result. Add comments to indicate that radius is in centimeters and volume in cubic centimeters."
   ],
   "id": "de57eab0dd2e141e"
  },
  {
   "metadata": {
    "ExecuteTime": {
     "end_time": "2024-09-26T17:43:09.057133Z",
     "start_time": "2024-09-26T17:43:09.052501Z"
    }
   },
   "cell_type": "code",
   "source": [
    "radius = 5\n",
    "sphere_volume = 4 / 3 * math.pi * (radius ** 3)\n",
    "print(f\" the volume of a sphere with radius {radius} = {sphere_volume}\")"
   ],
   "id": "da2a900e43222f23",
   "outputs": [
    {
     "name": "stdout",
     "output_type": "stream",
     "text": [
      " the volume of a sphere with radiaus 5 = 523.5987755982989\n"
     ]
    }
   ],
   "execution_count": 3
  },
  {
   "metadata": {},
   "cell_type": "markdown",
   "source": [
    "## cos sin\n",
    "Part 2. A rule of trigonometry says that for any value of,   Let’s see if it’s true for a specific value of \n",
    " like 42.\n",
    "\n",
    "Create a variable named x with this value. Then use math.cos and math.sin to compute the sine and cosine of \n",
    ", and the sum of their squared.\n",
    "\n",
    "The result should be close to 1. It might not be exactly 1 because floating-point arithmetic is not exact—it is only approximately correct."
   ],
   "id": "f562fdf265cff370"
  },
  {
   "metadata": {
    "ExecuteTime": {
     "end_time": "2024-09-26T17:43:26.360699Z",
     "start_time": "2024-09-26T17:43:26.355144Z"
    }
   },
   "cell_type": "code",
   "source": [
    "x = 42\n",
    "print(math.cos(x) ** 2 + math.sin(x) ** 2 == 1)"
   ],
   "id": "2c7b958d98025b1c",
   "outputs": [
    {
     "name": "stdout",
     "output_type": "stream",
     "text": [
      "True\n"
     ]
    }
   ],
   "execution_count": 4
  },
  {
   "metadata": {
    "ExecuteTime": {
     "end_time": "2024-09-26T17:55:11.318531Z",
     "start_time": "2024-09-26T17:55:11.313391Z"
    }
   },
   "cell_type": "code",
   "source": [
    "result = math.cos(5) ** 2 + math.sin(5) ** 2\n",
    "result = round(result, 0)\n",
    "print(result)"
   ],
   "id": "d50e732110d8f37a",
   "outputs": [
    {
     "name": "stdout",
     "output_type": "stream",
     "text": [
      "1.0\n"
     ]
    }
   ],
   "execution_count": 14
  },
  {
   "metadata": {},
   "cell_type": "markdown",
   "source": "### Roundings\n",
   "id": "a1f868e92490e3d7"
  },
  {
   "metadata": {
    "ExecuteTime": {
     "end_time": "2024-09-26T17:58:47.839835Z",
     "start_time": "2024-09-26T17:58:47.833446Z"
    }
   },
   "cell_type": "code",
   "source": [
    "x = 5\n",
    "result = math.cos(5) ** 2 + math.sin(5) ** 2\n",
    "deviation = abs(result - 1)\n",
    "print(deviation < 0.000001)\n",
    "print(deviation < 10 ** -6)\n"
   ],
   "id": "3a20bc8c4985f28d",
   "outputs": [
    {
     "name": "stdout",
     "output_type": "stream",
     "text": [
      "True\n"
     ]
    }
   ],
   "execution_count": 15
  },
  {
   "metadata": {},
   "cell_type": "markdown",
   "source": [
    "## e\n",
    "Part 3. In addition to pi, the other variable defined in the math module is e, which represents the base of the natural logarithm, written in math notation as \n",
    "\n",
    "If you are not familiar with this value, ask a virtual assistant “What is math.e?” Now let’s compute \n",
    " three ways:\n",
    "Use math.e and the exponentiation operator (**).\n",
    "Use math.pow to raise math.e to the power 2.\n",
    "Use math.exp, which takes as an argument a value, and computes \n",
    "You might notice that the last result is slightly different from the other two. See if you can find out which is correct.\n"
   ],
   "id": "c7f4384f96554294"
  },
  {
   "metadata": {
    "collapsed": true,
    "ExecuteTime": {
     "end_time": "2024-09-26T17:43:28.089676Z",
     "start_time": "2024-09-26T17:43:28.085293Z"
    }
   },
   "cell_type": "code",
   "source": [
    "print(math.e ** 2)\n",
    "print(math.pow(math.e, 2))\n",
    "print(math.exp(2))"
   ],
   "id": "initial_id",
   "outputs": [
    {
     "name": "stdout",
     "output_type": "stream",
     "text": [
      "7.3890560989306495\n",
      "7.3890560989306495\n",
      "7.38905609893065\n"
     ]
    }
   ],
   "execution_count": 5
  },
  {
   "metadata": {},
   "cell_type": "markdown",
   "source": [
    "### Books\n",
    "think python version 2\n",
    "Suppose the cover price of a book is $24.95, but bookstores get a 40% discount. Shipping costs\n",
    "$3 for the first copy and 75 cents for each additional copy. What is the total wholesale cost for\n",
    "60 copies?\n"
   ],
   "id": "fe527470e31d0f21"
  },
  {
   "metadata": {},
   "cell_type": "markdown",
   "source": "**beware of roundings, on one piece or on all pieces**",
   "id": "d2a9f3327d514deb"
  },
  {
   "metadata": {
    "ExecuteTime": {
     "end_time": "2024-09-26T19:34:30.928542Z",
     "start_time": "2024-09-26T19:34:30.913497Z"
    }
   },
   "cell_type": "code",
   "source": [
    "cover_price = 24.95\n",
    "discount = 0.4\n",
    "\n",
    "shipping_cost_first = 3\n",
    "shipping_cost_additional = 0.75\n",
    "\n",
    "books = 10000\n",
    "\n",
    "total = (\n",
    "        cover_price * (1 - discount) * books\n",
    "        + shipping_cost_first\n",
    "        + shipping_cost_additional * (books - 1)\n",
    ")\n",
    "print(total)\n",
    "print(round(total, 2))  # rounding can give errors\n"
   ],
   "id": "9bbe08c66c58d439",
   "outputs": [
    {
     "name": "stdout",
     "output_type": "stream",
     "text": [
      "157202.25\n",
      "157202.25\n"
     ]
    }
   ],
   "execution_count": 13
  },
  {
   "metadata": {},
   "cell_type": "markdown",
   "source": [
    "### Time        \n",
    "think python version 2\n",
    "If I leave my house at 6:52 am and run 1 mile at an easy pace (8:15 per mile), then 3 miles at\n",
    "tempo (7:12 per mile) and 1 mile at easy pace again, what time do I get home for breakfast?\n",
    "\n"
   ],
   "id": "ad6ca55b884958b5"
  },
  {
   "metadata": {},
   "cell_type": "code",
   "source": [
    "start_seconds = (6 * 60 + 52) * 60\n",
    "easy_pace_seconds = 8 * 60 + 15\n",
    "fast_pace_seconds = 7 * 60 + 12\n",
    "\n",
    "end_seconds = (\n",
    "        start_seconds\n",
    "        + easy_pace_seconds * 1\n",
    "        + fast_pace_seconds * 3\n",
    "        + easy_pace_seconds * 1\n",
    ")\n",
    "\n",
    "hours = end_seconds // (60 * 60)\n",
    "remaining_minutes = end_seconds % (60 * 60)\n",
    "minutes = remaining_minutes // 60\n",
    "seconds = remaining_minutes % 60\n",
    "\n",
    "print(f\"{hours}:{minutes}:{seconds}\")"
   ],
   "id": "5f172bc220ecf43c",
   "outputs": [],
   "execution_count": null
  },
  {
   "metadata": {},
   "cell_type": "code",
   "outputs": [],
   "execution_count": null,
   "source": "# shorter solution on main branch",
   "id": "b14af588c1e4a077"
  },
  {
   "metadata": {
    "ExecuteTime": {
     "end_time": "2024-09-26T19:14:01.189063Z",
     "start_time": "2024-09-26T19:14:01.182409Z"
    }
   },
   "cell_type": "code",
   "outputs": [
    {
     "name": "stdout",
     "output_type": "stream",
     "text": [
      "7:30:6\n"
     ]
    }
   ],
   "execution_count": 7,
   "source": "# solution with datetime on main branch",
   "id": "7c584a40d0e05494"
  }
 ],
 "metadata": {
  "kernelspec": {
   "display_name": "Python 3",
   "language": "python",
   "name": "python3"
  },
  "language_info": {
   "codemirror_mode": {
    "name": "ipython",
    "version": 2
   },
   "file_extension": ".py",
   "mimetype": "text/x-python",
   "name": "python",
   "nbconvert_exporter": "python",
   "pygments_lexer": "ipython2",
   "version": "2.7.6"
  }
 },
 "nbformat": 4,
 "nbformat_minor": 5
}
