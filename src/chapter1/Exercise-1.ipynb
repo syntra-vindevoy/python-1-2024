{
 "cells": [
  {
   "metadata": {},
   "cell_type": "markdown",
   "source": "Earlier I mentioned bitwise operators but I didn't explain why the value of 7 ^ 2 is 5. Try asking \"What are the bitwise operators in Python?\" or \"What is the value of 7 XOR 2?\"",
   "id": "8b8aafaf6a4ea7a"
  },
  {
   "metadata": {},
   "cell_type": "markdown",
   "source": [
    "The value of 7 XOR 2 can be computed using the XOR (exclusive OR) operation.\n",
    "\n",
    "First, convert the numbers to binary:\n",
    "\n",
    "7 in binary is 0111\n",
    "2 in binary is 0010\n",
    "Now, apply the XOR operation:\n",
    "7 in binary is 0111\n",
    "2 in binary is 0010\n",
    "\n",
    "The result 0101 in binary is 5 in decimal.\n",
    "\n",
    "So, the value of 7 XOR 2 is 5.\n",
    "\n",
    "\n",
    "\n"
   ],
   "id": "14e1b1e258567051"
  },
  {
   "metadata": {
    "ExecuteTime": {
     "end_time": "2024-09-25T15:11:20.152273Z",
     "start_time": "2024-09-25T15:11:20.144624Z"
    }
   },
   "cell_type": "code",
   "source": [
    "import math\n",
    "\n",
    "af_ronden = round(math.pi, 3)\n",
    "print(af_ronden)"
   ],
   "id": "d3477e971b94c945",
   "outputs": [
    {
     "name": "stdout",
     "output_type": "stream",
     "text": [
      "3.142\n"
     ]
    }
   ],
   "execution_count": 2
  },
  {
   "metadata": {},
   "cell_type": "markdown",
   "source": "",
   "id": "b37d34c0729e06b7"
  },
  {
   "metadata": {
    "ExecuteTime": {
     "end_time": "2024-09-25T15:11:20.182980Z",
     "start_time": "2024-09-25T15:11:20.160439Z"
    }
   },
   "cell_type": "code",
   "source": "5%2",
   "id": "8a7357ecdb95723",
   "outputs": [
    {
     "data": {
      "text/plain": [
       "1"
      ]
     },
     "execution_count": 3,
     "metadata": {},
     "output_type": "execute_result"
    }
   ],
   "execution_count": 3
  },
  {
   "metadata": {
    "ExecuteTime": {
     "end_time": "2024-09-25T15:11:20.204525Z",
     "start_time": "2024-09-25T15:11:20.191221Z"
    }
   },
   "cell_type": "code",
   "source": "2++2",
   "id": "4ff8ef02a71f1a54",
   "outputs": [
    {
     "data": {
      "text/plain": [
       "4"
      ]
     },
     "execution_count": 4,
     "metadata": {},
     "output_type": "execute_result"
    }
   ],
   "execution_count": 4
  },
  {
   "metadata": {
    "ExecuteTime": {
     "end_time": "2024-09-25T15:11:20.260194Z",
     "start_time": "2024-09-25T15:11:20.255644Z"
    }
   },
   "cell_type": "code",
   "source": "+-2",
   "id": "a7a13691b2de89a8",
   "outputs": [
    {
     "data": {
      "text/plain": [
       "-2"
      ]
     },
     "execution_count": 5,
     "metadata": {},
     "output_type": "execute_result"
    }
   ],
   "execution_count": 5
  },
  {
   "metadata": {
    "ExecuteTime": {
     "end_time": "2024-09-25T15:11:20.289430Z",
     "start_time": "2024-09-25T15:11:20.284579Z"
    }
   },
   "cell_type": "code",
   "source": "4*2",
   "id": "f8ef384c1e126117",
   "outputs": [
    {
     "data": {
      "text/plain": [
       "8"
      ]
     },
     "execution_count": 6,
     "metadata": {},
     "output_type": "execute_result"
    }
   ],
   "execution_count": 6
  },
  {
   "metadata": {
    "ExecuteTime": {
     "end_time": "2024-09-25T15:11:20.304154Z",
     "start_time": "2024-09-25T15:11:20.300256Z"
    }
   },
   "cell_type": "code",
   "source": "round(42.5)",
   "id": "33c23fea382c5350",
   "outputs": [
    {
     "data": {
      "text/plain": [
       "42"
      ]
     },
     "execution_count": 7,
     "metadata": {},
     "output_type": "execute_result"
    }
   ],
   "execution_count": 7
  },
  {
   "metadata": {
    "ExecuteTime": {
     "end_time": "2024-09-25T15:11:20.336768Z",
     "start_time": "2024-09-25T15:11:20.331384Z"
    }
   },
   "cell_type": "code",
   "source": "type(765)",
   "id": "50bb162911e78d3a",
   "outputs": [
    {
     "data": {
      "text/plain": [
       "int"
      ]
     },
     "execution_count": 8,
     "metadata": {},
     "output_type": "execute_result"
    }
   ],
   "execution_count": 8
  },
  {
   "metadata": {
    "ExecuteTime": {
     "end_time": "2024-09-25T15:11:20.358906Z",
     "start_time": "2024-09-25T15:11:20.336768Z"
    }
   },
   "cell_type": "code",
   "source": "type(2.718)",
   "id": "cbe258559cb3f68c",
   "outputs": [
    {
     "data": {
      "text/plain": [
       "float"
      ]
     },
     "execution_count": 9,
     "metadata": {},
     "output_type": "execute_result"
    }
   ],
   "execution_count": 9
  },
  {
   "metadata": {
    "ExecuteTime": {
     "end_time": "2024-09-25T15:11:20.378272Z",
     "start_time": "2024-09-25T15:11:20.374569Z"
    }
   },
   "cell_type": "code",
   "source": "type('2 pi')",
   "id": "c10a20c1b292f584",
   "outputs": [
    {
     "data": {
      "text/plain": [
       "str"
      ]
     },
     "execution_count": 10,
     "metadata": {},
     "output_type": "execute_result"
    }
   ],
   "execution_count": 10
  },
  {
   "metadata": {
    "ExecuteTime": {
     "end_time": "2024-09-25T15:11:20.398484Z",
     "start_time": "2024-09-25T15:11:20.392997Z"
    }
   },
   "cell_type": "code",
   "source": "type(abs(-7))",
   "id": "2f2f4bf4c5cb13e1",
   "outputs": [
    {
     "data": {
      "text/plain": [
       "int"
      ]
     },
     "execution_count": 11,
     "metadata": {},
     "output_type": "execute_result"
    }
   ],
   "execution_count": 11
  },
  {
   "metadata": {
    "ExecuteTime": {
     "end_time": "2024-09-25T15:11:20.433665Z",
     "start_time": "2024-09-25T15:11:20.424102Z"
    }
   },
   "cell_type": "code",
   "source": "type(abs(-7.0))",
   "id": "9e06882d2ba8d570",
   "outputs": [
    {
     "data": {
      "text/plain": [
       "float"
      ]
     },
     "execution_count": 12,
     "metadata": {},
     "output_type": "execute_result"
    }
   ],
   "execution_count": 12
  },
  {
   "metadata": {
    "ExecuteTime": {
     "end_time": "2024-09-25T15:11:20.460731Z",
     "start_time": "2024-09-25T15:11:20.455135Z"
    }
   },
   "cell_type": "code",
   "source": "type(abs)",
   "id": "150b14ac93880ad6",
   "outputs": [
    {
     "data": {
      "text/plain": [
       "builtin_function_or_method"
      ]
     },
     "execution_count": 13,
     "metadata": {},
     "output_type": "execute_result"
    }
   ],
   "execution_count": 13
  },
  {
   "metadata": {
    "ExecuteTime": {
     "end_time": "2024-09-25T15:11:20.478279Z",
     "start_time": "2024-09-25T15:11:20.470676Z"
    }
   },
   "cell_type": "code",
   "source": "type(int)",
   "id": "6a4f3f23c1e4014",
   "outputs": [
    {
     "data": {
      "text/plain": [
       "type"
      ]
     },
     "execution_count": 14,
     "metadata": {},
     "output_type": "execute_result"
    }
   ],
   "execution_count": 14
  },
  {
   "metadata": {
    "ExecuteTime": {
     "end_time": "2024-09-25T15:11:20.506112Z",
     "start_time": "2024-09-25T15:11:20.501793Z"
    }
   },
   "cell_type": "code",
   "source": "type(type)",
   "id": "b2b428b73b1ee1d3",
   "outputs": [
    {
     "data": {
      "text/plain": [
       "type"
      ]
     },
     "execution_count": 15,
     "metadata": {},
     "output_type": "execute_result"
    }
   ],
   "execution_count": 15
  },
  {
   "metadata": {},
   "cell_type": "markdown",
   "source": "1. How many seconds are there in 42 minutes 42 seconds?",
   "id": "2b48915f7acfd20b"
  },
  {
   "cell_type": "code",
   "id": "initial_id",
   "metadata": {
    "collapsed": true,
    "ExecuteTime": {
     "end_time": "2024-09-25T15:11:20.530023Z",
     "start_time": "2024-09-25T15:11:20.517990Z"
    }
   },
   "source": "(42 * 60)  + 42  ",
   "outputs": [
    {
     "data": {
      "text/plain": [
       "2562"
      ]
     },
     "execution_count": 16,
     "metadata": {},
     "output_type": "execute_result"
    }
   ],
   "execution_count": 16
  },
  {
   "metadata": {},
   "cell_type": "markdown",
   "source": "2. How many miles are there in 10 kilometers? Hint: there are 1.61 kilometers in a mile.",
   "id": "7d162b2467a55ba3"
  },
  {
   "metadata": {
    "ExecuteTime": {
     "end_time": "2024-09-25T15:11:20.552882Z",
     "start_time": "2024-09-25T15:11:20.548031Z"
    }
   },
   "cell_type": "code",
   "source": "round(10 / 1.61, 2)",
   "id": "6389a99cb79bce96",
   "outputs": [
    {
     "data": {
      "text/plain": [
       "6.21"
      ]
     },
     "execution_count": 17,
     "metadata": {},
     "output_type": "execute_result"
    }
   ],
   "execution_count": 17
  },
  {
   "metadata": {},
   "cell_type": "markdown",
   "source": [
    "3. If you run a 10 kilometer race in 42 minutes 42 seconds, what is your average pace in seconds per mile?\n",
    "\n"
   ],
   "id": "14ad46f594b676c0"
  },
  {
   "metadata": {
    "ExecuteTime": {
     "end_time": "2024-09-25T15:11:20.579575Z",
     "start_time": "2024-09-25T15:11:20.563683Z"
    }
   },
   "cell_type": "code",
   "source": [
    "time= (42 * 60)  + 42  \n",
    "distance_miles = 10 / 1.61\n",
    "result = (time / distance_miles)\n",
    "print(result)"
   ],
   "id": "b321d1c325b3cc70",
   "outputs": [
    {
     "name": "stdout",
     "output_type": "stream",
     "text": [
      "412.482\n"
     ]
    }
   ],
   "execution_count": 18
  },
  {
   "metadata": {},
   "cell_type": "markdown",
   "source": "4. What is your average pace in minutes and seconds per mile?",
   "id": "645cad97e1d63dea"
  },
  {
   "metadata": {
    "ExecuteTime": {
     "end_time": "2024-09-25T15:11:20.659284Z",
     "start_time": "2024-09-25T15:11:20.654151Z"
    }
   },
   "cell_type": "code",
   "source": [
    "time= (42 * 60)  + 42  \n",
    "distance_miles = 10 / 1.61\n",
    "average_pace_seconds_per_mile = (time / distance_miles)\n",
    "result_average_pace_minutes = average_pace_seconds_per_mile // 60\n",
    "result_average_pace_sec = average_pace_seconds_per_mile % 60\n",
    "print(result_average_pace_minutes)\n",
    "print(result_average_pace_sec)"
   ],
   "id": "d102c643aabd57ff",
   "outputs": [
    {
     "name": "stdout",
     "output_type": "stream",
     "text": [
      "6.0\n",
      "52.48200000000003\n"
     ]
    }
   ],
   "execution_count": 19
  },
  {
   "metadata": {},
   "cell_type": "markdown",
   "source": "",
   "id": "8eb5e0a3273a15a"
  },
  {
   "metadata": {},
   "cell_type": "markdown",
   "source": "5. What is your average speed in miles per hour?",
   "id": "e50c7a7d8f55900c"
  },
  {
   "metadata": {
    "ExecuteTime": {
     "end_time": "2024-09-25T15:11:20.748908Z",
     "start_time": "2024-09-25T15:11:20.744440Z"
    }
   },
   "cell_type": "code",
   "source": [
    "# Convert 10 kilometers to miles\n",
    "kilometers = 10\n",
    "miles = kilometers / 1.61\n",
    "\n",
    "# Convert 42 minutes 42 seconds to hours\n",
    "minutes = 42\n",
    "seconds = 42\n",
    "total_seconds = minutes * 60 + seconds\n",
    "hours = total_seconds / 3600\n",
    "\n",
    "# Calculate average pace in miles per hour\n",
    "pace = miles / hours\n",
    "\n",
    "print(f\"Your average pace is {pace:.2f} miles per hour.\")"
   ],
   "id": "a5f8ca8a5ba1dcfd",
   "outputs": [
    {
     "name": "stdout",
     "output_type": "stream",
     "text": [
      "Your average pace is 8.73 miles per hour.\n"
     ]
    }
   ],
   "execution_count": 20
  }
 ],
 "metadata": {
  "kernelspec": {
   "display_name": "Python 3",
   "language": "python",
   "name": "python3"
  },
  "language_info": {
   "codemirror_mode": {
    "name": "ipython",
    "version": 2
   },
   "file_extension": ".py",
   "mimetype": "text/x-python",
   "name": "python",
   "nbconvert_exporter": "python",
   "pygments_lexer": "ipython2",
   "version": "2.7.6"
  }
 },
 "nbformat": 4,
 "nbformat_minor": 5
}
